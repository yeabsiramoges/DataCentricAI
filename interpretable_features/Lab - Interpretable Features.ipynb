{
 "cells": [
  {
   "cell_type": "markdown",
   "id": "45017587",
   "metadata": {},
   "source": [
    "## Lab - Using Interpretable Features for Model Debugging\n",
    "\n",
    "In our lecture on interpretable features, you learned about the importance of using interpretable features for interpretable models. As we talked about, one of the benefits of interpretable machien learning is it makes it easier to identify the source of a problem with a deployed model.\n",
    "\n",
    "In this lab, we'll be working with a modified version of the Ames Housing Dataset (CITE). In this dataset, each row represents a single house in Ames Iowa, and our model is traiend to predict the final sale price of the house. \n",
    "\n",
    "In our hypothetical scenario, a real estate agent has deployed a model to help they set the initial sale price houses newly on the market. However, despite decent train and test scores during model training, the agent has found that the house predictions are terrible in the real world. They suspect something went wrong with the data, and want to use methods from *XAI* (explainable AI) to identify the problem.\n",
    "\n",
    "Your task will be to try to find the issue with the data. You will try transforming the data in different ways to train multiple models with different levels of *feature interpretability*. There are **two mistakes** intentionally added to the dataset. "
   ]
  },
  {
   "cell_type": "markdown",
   "id": "810f2158",
   "metadata": {},
   "source": [
    "### Data Setup\n",
    "\n",
    "Run the cells below to install libraries, load in the (flawed) dataset, and take an initial look at the data. **After running the first (pip install) cell, make sure to restart your kernel by using Kernel -> Restart in the toolbar, the continue running from the second cell.**"
   ]
  },
  {
   "cell_type": "code",
   "execution_count": null,
   "id": "2783eff8",
   "metadata": {
    "scrolled": false
   },
   "outputs": [],
   "source": [
    "%pip install lightgbm\n",
    "%pip install featuretools\n",
    "%pip install pyreal==0.3.1.1\n",
    "%pip install matplotlib==3.5.3\n",
    "%pip install numpy==1.23.5\n",
    "%pip install shap"
   ]
  },
  {
   "cell_type": "code",
   "execution_count": 24,
   "id": "74f7e9e8",
   "metadata": {},
   "outputs": [
    {
     "name": "stderr",
     "output_type": "stream",
     "text": [
      "`sparse` was renamed to `sparse_output` in version 1.2 and will be removed in 1.4. `sparse_output` is ignored unless you leave `sparse` to its default value.\n"
     ]
    },
    {
     "data": {
      "text/html": [
       "<div>\n",
       "<style scoped>\n",
       "    .dataframe tbody tr th:only-of-type {\n",
       "        vertical-align: middle;\n",
       "    }\n",
       "\n",
       "    .dataframe tbody tr th {\n",
       "        vertical-align: top;\n",
       "    }\n",
       "\n",
       "    .dataframe thead th {\n",
       "        text-align: right;\n",
       "    }\n",
       "</style>\n",
       "<table border=\"1\" class=\"dataframe\">\n",
       "  <thead>\n",
       "    <tr style=\"text-align: right;\">\n",
       "      <th></th>\n",
       "      <th>LotFrontage</th>\n",
       "      <th>LotArea</th>\n",
       "      <th>Street</th>\n",
       "      <th>LotShape</th>\n",
       "      <th>Utilities</th>\n",
       "      <th>LandSlope</th>\n",
       "      <th>OverallQual</th>\n",
       "      <th>OverallCond</th>\n",
       "      <th>YearBuilt</th>\n",
       "      <th>YearRemodAdd</th>\n",
       "      <th>...</th>\n",
       "      <th>Heating</th>\n",
       "      <th>CentralAir</th>\n",
       "      <th>Electrical</th>\n",
       "      <th>GarageType</th>\n",
       "      <th>GarageFinish</th>\n",
       "      <th>Fence</th>\n",
       "      <th>MiscFeature</th>\n",
       "      <th>MoSold</th>\n",
       "      <th>SaleType</th>\n",
       "      <th>SaleCondition</th>\n",
       "    </tr>\n",
       "  </thead>\n",
       "  <tbody>\n",
       "    <tr>\n",
       "      <th>0</th>\n",
       "      <td>107.0</td>\n",
       "      <td>13891</td>\n",
       "      <td>2</td>\n",
       "      <td>4</td>\n",
       "      <td>4</td>\n",
       "      <td>3</td>\n",
       "      <td>1</td>\n",
       "      <td>5</td>\n",
       "      <td>2006</td>\n",
       "      <td>2006</td>\n",
       "      <td>...</td>\n",
       "      <td>GasA</td>\n",
       "      <td>Y</td>\n",
       "      <td>SBrkr</td>\n",
       "      <td>Attchd</td>\n",
       "      <td>Fin</td>\n",
       "      <td>No</td>\n",
       "      <td>No</td>\n",
       "      <td>Sep</td>\n",
       "      <td>New</td>\n",
       "      <td>Partial</td>\n",
       "    </tr>\n",
       "    <tr>\n",
       "      <th>1</th>\n",
       "      <td>50.0</td>\n",
       "      <td>6060</td>\n",
       "      <td>2</td>\n",
       "      <td>4</td>\n",
       "      <td>4</td>\n",
       "      <td>3</td>\n",
       "      <td>7</td>\n",
       "      <td>5</td>\n",
       "      <td>1939</td>\n",
       "      <td>1950</td>\n",
       "      <td>...</td>\n",
       "      <td>GasA</td>\n",
       "      <td>Y</td>\n",
       "      <td>SBrkr</td>\n",
       "      <td>Detchd</td>\n",
       "      <td>Unf</td>\n",
       "      <td>MnPrv</td>\n",
       "      <td>No</td>\n",
       "      <td>Jun</td>\n",
       "      <td>WD</td>\n",
       "      <td>Normal</td>\n",
       "    </tr>\n",
       "    <tr>\n",
       "      <th>2</th>\n",
       "      <td>60.0</td>\n",
       "      <td>6000</td>\n",
       "      <td>2</td>\n",
       "      <td>4</td>\n",
       "      <td>4</td>\n",
       "      <td>3</td>\n",
       "      <td>5</td>\n",
       "      <td>6</td>\n",
       "      <td>1941</td>\n",
       "      <td>1950</td>\n",
       "      <td>...</td>\n",
       "      <td>GasA</td>\n",
       "      <td>Y</td>\n",
       "      <td>SBrkr</td>\n",
       "      <td>Detchd</td>\n",
       "      <td>Unf</td>\n",
       "      <td>No</td>\n",
       "      <td>No</td>\n",
       "      <td>Mar</td>\n",
       "      <td>WD</td>\n",
       "      <td>Normal</td>\n",
       "    </tr>\n",
       "    <tr>\n",
       "      <th>3</th>\n",
       "      <td>70.0</td>\n",
       "      <td>7728</td>\n",
       "      <td>2</td>\n",
       "      <td>4</td>\n",
       "      <td>4</td>\n",
       "      <td>3</td>\n",
       "      <td>6</td>\n",
       "      <td>6</td>\n",
       "      <td>1962</td>\n",
       "      <td>1962</td>\n",
       "      <td>...</td>\n",
       "      <td>GasA</td>\n",
       "      <td>Y</td>\n",
       "      <td>SBrkr</td>\n",
       "      <td>Attchd</td>\n",
       "      <td>Unf</td>\n",
       "      <td>GdWo</td>\n",
       "      <td>No</td>\n",
       "      <td>May</td>\n",
       "      <td>WD</td>\n",
       "      <td>Normal</td>\n",
       "    </tr>\n",
       "    <tr>\n",
       "      <th>4</th>\n",
       "      <td>80.0</td>\n",
       "      <td>10480</td>\n",
       "      <td>2</td>\n",
       "      <td>4</td>\n",
       "      <td>4</td>\n",
       "      <td>3</td>\n",
       "      <td>4</td>\n",
       "      <td>6</td>\n",
       "      <td>1976</td>\n",
       "      <td>1976</td>\n",
       "      <td>...</td>\n",
       "      <td>GasA</td>\n",
       "      <td>Y</td>\n",
       "      <td>SBrkr</td>\n",
       "      <td>Attchd</td>\n",
       "      <td>RFn</td>\n",
       "      <td>No</td>\n",
       "      <td>No</td>\n",
       "      <td>Sep</td>\n",
       "      <td>WD</td>\n",
       "      <td>Normal</td>\n",
       "    </tr>\n",
       "  </tbody>\n",
       "</table>\n",
       "<p>5 rows × 80 columns</p>\n",
       "</div>"
      ],
      "text/plain": [
       "   LotFrontage  LotArea  Street  LotShape  Utilities  LandSlope  OverallQual  \\\n",
       "0        107.0    13891       2         4          4          3            1   \n",
       "1         50.0     6060       2         4          4          3            7   \n",
       "2         60.0     6000       2         4          4          3            5   \n",
       "3         70.0     7728       2         4          4          3            6   \n",
       "4         80.0    10480       2         4          4          3            4   \n",
       "\n",
       "   OverallCond  YearBuilt  YearRemodAdd  ...  Heating  CentralAir  Electrical  \\\n",
       "0            5       2006          2006  ...     GasA           Y       SBrkr   \n",
       "1            5       1939          1950  ...     GasA           Y       SBrkr   \n",
       "2            6       1941          1950  ...     GasA           Y       SBrkr   \n",
       "3            6       1962          1962  ...     GasA           Y       SBrkr   \n",
       "4            6       1976          1976  ...     GasA           Y       SBrkr   \n",
       "\n",
       "   GarageType  GarageFinish  Fence  MiscFeature  MoSold  SaleType  \\\n",
       "0      Attchd           Fin     No           No     Sep       New   \n",
       "1      Detchd           Unf  MnPrv           No     Jun        WD   \n",
       "2      Detchd           Unf     No           No     Mar        WD   \n",
       "3      Attchd           Unf   GdWo           No     May        WD   \n",
       "4      Attchd           RFn     No           No     Sep        WD   \n",
       "\n",
       "   SaleCondition  \n",
       "0        Partial  \n",
       "1         Normal  \n",
       "2         Normal  \n",
       "3         Normal  \n",
       "4         Normal  \n",
       "\n",
       "[5 rows x 80 columns]"
      ]
     },
     "execution_count": 24,
     "metadata": {},
     "output_type": "execute_result"
    }
   ],
   "source": [
    "import pandas as pd\n",
    "import numpy as np\n",
    "import lightgbm\n",
    "from pyreal.transformers import OneHotEncoder, DataFrameWrapper, fit_transformers, run_transformers\n",
    "import matplotlib.pyplot as plt\n",
    "\n",
    "def one_hot_encode(X_train, X_test):\n",
    "    categorical_features = X_train.select_dtypes(exclude=[np.number]).columns\n",
    "    ohe = OneHotEncoder(columns=categorical_features)\n",
    "    \n",
    "    ohe.fit(pd.concat((X_train, X_test), axis=0))\n",
    "\n",
    "    return ohe.transform(X_train), ohe.transform(X_test)\n",
    "\n",
    "def fit_model(X_train, y_train):\n",
    "    return lightgbm.LGBMRegressor().fit(X_train, y_train)\n",
    "\n",
    "train_data = pd.read_csv(\"train_data.csv\")\n",
    "test_data = pd.read_csv(\"test_data.csv\")\n",
    "\n",
    "y_train = train_data.SalePrice\n",
    "X_train = train_data.drop(\"SalePrice\", axis=1)\n",
    "\n",
    "y_test = test_data.SalePrice\n",
    "X_test = test_data.drop(\"SalePrice\", axis=1)\n",
    "\n",
    "X_train_model, X_test_model = one_hot_encode(X_train, X_test)\n",
    "feature_df = pd.read_csv(\"feature_descriptions.csv\") # includes information about features\n",
    "\n",
    "X_train.head()"
   ]
  },
  {
   "cell_type": "markdown",
   "id": "57c51ffe",
   "metadata": {},
   "source": [
    "### Generating Explanations\n",
    "\n",
    "To generate explanations throughout this lab, we will be using the popular explanation library [shap](https://shap.readthedocs.io/en/latest/). SHAP is a *model agnostic* explanation tool, meaning it can be used to explain any ML model, regardless of architecture --- however, as we will see, its explanations are less than useful when using uninterpretable features.\n",
    "\n",
    "The shap library offers many different (plotting options)[https://shap.readthedocs.io/en/latest/api_examples.html#plots], you can try multiple out to see what works best for your task. Some plots provide *local explantions*, which explain the logic behind a single prediction. For this lab, you will be working with *global explanations*, which explain the model's logic overall. \n",
    "\n",
    "As a start, we recommend you try the **beeswarm** plot. This chart lists the feature the model considers most important on top, with reducing importance going down the y-axis. Each point represents a line in the dataset, with the color representing the value of the feature. The SHAP impact value, on the x-axis represents how much that feature value contributed to the model prediction. A higher value along the x-axis means that feature was highly positively correlated with the model prediction, while a lower value means it was negatively correlated. A SHAP value of zero means that feature value had no effect on the model prediction.\n",
    "\n",
    "For example, in the sample visualization below, higher median income and lower populations in house blocks tends to result in higher house prices (which makes sense!) \n",
    "\n",
    "![example explanation](example_explanation.png)"
   ]
  },
  {
   "cell_type": "markdown",
   "id": "cddbedde",
   "metadata": {},
   "source": [
    "Run the cell below for two helper functions that will get you started on generating explanations."
   ]
  },
  {
   "cell_type": "code",
   "execution_count": 25,
   "id": "d2743763",
   "metadata": {},
   "outputs": [],
   "source": [
    "import shap\n",
    "\n",
    "def explain(model, X_train):\n",
    "    \"\"\"\n",
    "    Explain a model with a beeswarm plot. \n",
    "    \n",
    "    model: a machine learning model\n",
    "    X_train: a dataset of valid inputs to model\n",
    "    \"\"\"\n",
    "    explainer = shap.explainers.Tree(model, X_train)\n",
    "    shap_values = explainer(X_train)\n",
    "\n",
    "    shap.plots.beeswarm(shap_values, max_display=10)\n",
    "\n",
    "def explain_feature(model, X_train, feature_name):\n",
    "    \"\"\"\n",
    "    Generate an explanation for the impact of a specific \n",
    "    feature on model predictions.\n",
    "    \n",
    "    model: a machine learning model\n",
    "    X_train: a dataset of valid inputs to model\n",
    "    feature_name: string, the name of a feature to investigate\n",
    "    \"\"\"\n",
    "    explainer = shap.explainers.Tree(model, X_train)\n",
    "    shap_values = explainer(X_train)\n",
    "\n",
    "    shap.plots.scatter(shap_values[:, feature_name])"
   ]
  },
  {
   "cell_type": "markdown",
   "id": "8eb9a026",
   "metadata": {},
   "source": [
    "### Feature Transforms 1: PCA\n",
    "\n",
    "We will begin by running a [PCA (Principle Component Analysis)](https://builtin.com/data-science/step-step-explanation-principal-component-analysis) on the data. Run the cell below to standardize and PCA transform the data, and train a light GBM model. Note the performance (given as an [R^2](https://www.geeksforgeeks.org/ml-r-squared-in-regression-analysis/) score)."
   ]
  },
  {
   "cell_type": "code",
   "execution_count": 26,
   "id": "ff34077e",
   "metadata": {},
   "outputs": [
    {
     "name": "stdout",
     "output_type": "stream",
     "text": [
      "Number of PCA components used: 155\n",
      "R^2 Score (PCA): 0.864\n"
     ]
    }
   ],
   "source": [
    "from sklearn.preprocessing import StandardScaler\n",
    "from sklearn.decomposition import PCA\n",
    "\n",
    "scaler = DataFrameWrapper(StandardScaler())\n",
    "\n",
    "X_train_std = scaler.fit_transform(X_train_model)\n",
    "X_test_std = scaler.transform(X_test_model)\n",
    "\n",
    "pca = PCA(n_components=0.95)\n",
    "pca.fit(X_train_std)\n",
    "\n",
    "X_train_pca = pd.DataFrame(pca.transform(X_train_std), columns=pca.get_feature_names_out())\n",
    "X_test_pca = pd.DataFrame(pca.transform(X_test_std), columns=pca.get_feature_names_out())\n",
    "\n",
    "model_pca = fit_model(X_train_pca, y_train)\n",
    "\n",
    "print(\"Number of PCA components used: %i\" % pca.n_components_)\n",
    "print(\"R^2 Score (PCA): %.3f\" % model_pca.score(X_test_pca, y_test))"
   ]
  },
  {
   "cell_type": "markdown",
   "id": "9dbf9354",
   "metadata": {},
   "source": [
    "In the cell below, use the explanation helper functions (or others from the shap library/other explanation libraries you may be interested in trying) to generate some explanations of the model's prediction. Think about what additional steps you may need to take to identify the source of poor performance. "
   ]
  },
  {
   "cell_type": "code",
   "execution_count": 27,
   "id": "7f3c34f2",
   "metadata": {},
   "outputs": [],
   "source": [
    "# Generate an explanation of the PCA model, and see if you can identify the data flaw\n"
   ]
  },
  {
   "cell_type": "markdown",
   "id": "ba54738d",
   "metadata": {},
   "source": [
    "### Feature Transforms 2: Automatic Feature Engineering\n",
    "\n",
    "Next, we will try a different set of transformations using an automatic feature engineering tool - [Featuretools](https://www.featuretools.com/). This is a powerful library that makes it possible to dry hundreds of feature engineering options with just a few lines of code. There are many situations were this is a very useful process - but as we'll see below, automatic feature engineering without care can lead to less interpretable features.\n",
    "\n",
    "Run the cell below to generate a significantly larger dataset of engineered features. This process may be slow - you can load in the pretrained results of the engineering process by setting `load_pretrained = True`"
   ]
  },
  {
   "cell_type": "code",
   "execution_count": 28,
   "id": "28861e24",
   "metadata": {},
   "outputs": [
    {
     "name": "stdout",
     "output_type": "stream",
     "text": [
      "Starting deep feature synthesis on training data\n",
      "Starting feature engineering on testing data\n"
     ]
    },
    {
     "name": "stderr",
     "output_type": "stream",
     "text": [
      "`sparse` was renamed to `sparse_output` in version 1.2 and will be removed in 1.4. `sparse_output` is ignored unless you leave `sparse` to its default value.\n"
     ]
    },
    {
     "name": "stdout",
     "output_type": "stream",
     "text": [
      "R2 Score (Featuretools): 0.8043014861316414\n"
     ]
    }
   ],
   "source": [
    "import featuretools as ft\n",
    "\n",
    "load_pretrained = False\n",
    "\n",
    "def make_entity_set(X):\n",
    "    es = ft.EntitySet(id=\"houses\")\n",
    "    \n",
    "    X_with_ind = X.copy()\n",
    "    X_with_ind['index'] = X_with_ind.index\n",
    "    \n",
    "    es = es.add_dataframe(\n",
    "      dataframe_name=\"houses\",\n",
    "      dataframe=X_with_ind,\n",
    "      index=\"index\",\n",
    "    )\n",
    "    \n",
    "    return es\n",
    "\n",
    "def feature_engineer(es, num_to_engineer=15, primitives=None):\n",
    "    # To avoid large computation times, we \n",
    "    ignore_features = list(feature_df[\"name\"][num_to_engineer:])\n",
    "    \n",
    "    if primitives is None:\n",
    "        # To avoid large computation times, we'll just work with a truncated set of options\n",
    "        primitives = ['multiply_numeric', \"greater_than\", \"divide_by_feature\", \"cosine\", \"tangent\"]\n",
    "  \n",
    "    feature_matrix, feature_defs = ft.dfs(\n",
    "        entityset=es,\n",
    "        target_dataframe_name=\"houses\",\n",
    "        trans_primitives=primitives,\n",
    "        ignore_columns={\"houses\": ignore_features},\n",
    "        max_depth=1,\n",
    "        max_features=1000\n",
    "    )\n",
    "    \n",
    "    return feature_matrix, feature_defs\n",
    "\n",
    "if load_pretrained:\n",
    "    X_train_ft = pd.read_csv(\"X_train_ft.csv\")\n",
    "    X_test_ft = pd.read_csv(\"X_test_ft.csv\")\n",
    "\n",
    "else:\n",
    "    print(\"Starting deep feature synthesis on training data\")\n",
    "    X_train_ft, feature_defs = feature_engineer(make_entity_set(X_train))\n",
    "\n",
    "    print(\"Starting feature engineering on testing data\")\n",
    "    X_test_ft = ft.calculate_feature_matrix(feature_defs, make_entity_set(X_test))\n",
    "\n",
    "X_train_ft_model, X_test_ft_model = one_hot_encode(X_train_ft, X_test_ft)\n",
    "\n",
    "model_ft = fit_model(X_train_ft_model, y_train)\n",
    "print(\"R2 Score (Featuretools):\", model_ft.score(X_test_ft_model, y_test))"
   ]
  },
  {
   "cell_type": "markdown",
   "id": "4bb54764",
   "metadata": {},
   "source": [
    "Once again, try generating explanations on the generated data, and see if you can guess at the flaw in the data. "
   ]
  },
  {
   "cell_type": "code",
   "execution_count": 29,
   "id": "2d552584",
   "metadata": {},
   "outputs": [],
   "source": [
    "# Generate explanations here\n"
   ]
  },
  {
   "cell_type": "markdown",
   "id": "388dd176",
   "metadata": {},
   "source": [
    "### Basic Feature Transformations\n",
    "\n",
    "In many datasets, complex feature engineering does not offer a lot (or any!) boost in model performance, while lowering the interpretability of features. In this dataset, we happened to be given data already turned into useful features. Again, we will train a model on a set of features. Then, try generating some explanations and see if you can guess at the data flaw."
   ]
  },
  {
   "cell_type": "code",
   "execution_count": 30,
   "id": "e49e3f30",
   "metadata": {},
   "outputs": [
    {
     "name": "stdout",
     "output_type": "stream",
     "text": [
      "R2 Score (Original): 0.9238520966108774\n"
     ]
    }
   ],
   "source": [
    "model_orig = fit_model(X_train_std, y_train)\n",
    "print(\"R2 Score (Original):\", model_orig.score(X_test_std, y_test))"
   ]
  },
  {
   "cell_type": "code",
   "execution_count": 31,
   "id": "dce68d43",
   "metadata": {},
   "outputs": [],
   "source": [
    "# Generate explanations here\n"
   ]
  },
  {
   "cell_type": "markdown",
   "id": "e6a92dbe",
   "metadata": {},
   "source": [
    "### Boosting Feature Interpretability\n",
    "\n",
    "You may have already guessed at one or both flaws in the data based on the explanations generated above, but we can make explanations that are even more immedietely readable by using a library that factors in feature interpretability like [Pyreal](https://dtail.gitbook.io/pyreal/). The example below shows the setup for a Global Feature Importance explanation, which provides one overall importance value per feature to show you which features are most used by the model generally. \n",
    "\n",
    "The explanation you generate in the cell below should help you identify one of the data flaws."
   ]
  },
  {
   "cell_type": "code",
   "execution_count": 32,
   "id": "2b689910",
   "metadata": {},
   "outputs": [
    {
     "name": "stderr",
     "output_type": "stream",
     "text": [
      "`sparse` was renamed to `sparse_output` in version 1.2 and will be removed in 1.4. `sparse_output` is ignored unless you leave `sparse` to its default value.\n"
     ]
    },
    {
     "data": {
      "image/png": "[encoded data removed]",
      "text/plain": [
       "<Figure size 640x480 with 1 Axes>"
      ]
     },
     "metadata": {},
     "output_type": "display_data"
    }
   ],
   "source": [
    "from pyreal.explainers import GlobalFeatureImportance, LocalFeatureContribution\n",
    "from pyreal.utils.visualize import plot_top_contributors, swarm_plot\n",
    "\n",
    "feature_descriptions = dict(zip(feature_df.name, feature_df.description))\n",
    "\n",
    "categorical_features = X_train.select_dtypes(exclude=[np.number]).columns\n",
    "ohe = OneHotEncoder(columns=categorical_features)\n",
    "scaler = DataFrameWrapper(StandardScaler())\n",
    "\n",
    "ohe.fit(pd.concat((X_train, X_test), axis=0))\n",
    "scaler.fit(ohe.transform(X_train))\n",
    "\n",
    "global_explainer = GlobalFeatureImportance(model_orig, x_train_orig=X_train, \n",
    "                                           e_algorithm=\"shap\", transformers=[ohe, scaler], \n",
    "                                           feature_descriptions=feature_descriptions, \n",
    "                                           fit_on_init=True)\n",
    "\n",
    "explanation = global_explainer.produce()\n",
    "plot_top_contributors(explanation, n=10)"
   ]
  },
  {
   "cell_type": "markdown",
   "id": "5c480052",
   "metadata": {},
   "source": [
    "Now, use the example above as well as additional documentation [here](https://dtail.gitbook.io/pyreal/getting-started/quickstart) to generate a Local Feature Contribution explanation, which will give you further information about the exact positive and negative contributions of each feature."
   ]
  },
  {
   "cell_type": "code",
   "execution_count": 33,
   "id": "c5aae67c",
   "metadata": {},
   "outputs": [
    {
     "ename": "SyntaxError",
     "evalue": "invalid syntax (1082507576.py, line 1)",
     "output_type": "error",
     "traceback": [
      "\u001b[0;36m  Cell \u001b[0;32mIn[33], line 1\u001b[0;36m\u001b[0m\n\u001b[0;31m    local_explainer = # your code here #\u001b[0m\n\u001b[0m                      ^\u001b[0m\n\u001b[0;31mSyntaxError\u001b[0m\u001b[0;31m:\u001b[0m invalid syntax\n"
     ]
    }
   ],
   "source": [
    "local_explainer = # your code here #\n",
    "\n",
    "local_explanation, x_interpret = # your code here #"
   ]
  },
  {
   "cell_type": "markdown",
   "id": "8685160e",
   "metadata": {},
   "source": [
    "You can now look at multiple individual explanations individually using `plot_top_contributors`, or you may find it more useful to generate a swarm plot like the ones above using Pyreals [swarm_plot](https://sibyl-ml.dev/pyreal/api_reference/api/pyreal.utils.visualize.swarm_plot.html#pyreal.utils.visualize.swarm_plot) function."
   ]
  },
  {
   "cell_type": "code",
   "execution_count": null,
   "id": "34eadde6",
   "metadata": {},
   "outputs": [],
   "source": [
    "# your code here #"
   ]
  },
  {
   "cell_type": "markdown",
   "id": "97ed2405",
   "metadata": {},
   "source": [
    "### Results\n",
    "\n",
    "As you may have determined from the explanations above, the data has two flaws.\n",
    "\n",
    "<details>\n",
    "<summary><font color='blue'> Click to reveal solution </font></summary>The first is an example of **data leakage**, by including a feature for the bid price on houses sold in the past. We won't have access to the information for new houses on the market, so a model that relies heavily on this information will not be useful for setting the original house price.\n",
    "\n",
    "The second was a mistake in the engineering of features, resulting in higher quality of housing materials leading to lower model predictions. If this mistake does not exist in new data coming in, we can expect model performance to decrease. \n",
    "</details>"
   ]
  },
  {
   "cell_type": "markdown",
   "id": "bc80977f",
   "metadata": {},
   "source": [
    "### Bonus activity\n",
    "\n",
    "If you'd like to get more experience with generating interpretable features, try finding a dataset on a topic you know a lot about. Generate features based on information you know is important, and then compare the explanations and performance to features generated automatically using a tool like the ones above."
   ]
  },
  {
   "cell_type": "code",
   "execution_count": null,
   "id": "cd2ba7ff",
   "metadata": {},
   "outputs": [],
   "source": []
  }
 ],
 "metadata": {
  "kernelspec": {
   "display_name": "Python 3 (ipykernel)",
   "language": "python",
   "name": "python3"
  },
  "language_info": {
   "codemirror_mode": {
    "name": "ipython",
    "version": 3
   },
   "file_extension": ".py",
   "mimetype": "text/x-python",
   "name": "python",
   "nbconvert_exporter": "python",
   "pygments_lexer": "ipython3",
   "version": "3.8.5"
  }
 },
 "nbformat": 4,
 "nbformat_minor": 5
}
